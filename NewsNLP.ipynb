{
 "cells": [
  {
   "cell_type": "code",
   "execution_count": 1,
   "id": "7bdefc6e",
   "metadata": {},
   "outputs": [],
   "source": [
    "import pandas as pd\n",
    "from sklearn.model_selection import train_test_split\n",
    "from sklearn.feature_extraction.text import TfidfVectorizer\n",
    "from sklearn.linear_model import LogisticRegression\n",
    "from sklearn.naive_bayes import MultinomialNB\n",
    "from sklearn.tree import DecisionTreeClassifier"
   ]
  },
  {
   "cell_type": "markdown",
   "id": "b1d9a479",
   "metadata": {},
   "source": [
    "<h1>Data Prep"
   ]
  },
  {
   "cell_type": "code",
   "execution_count": 2,
   "id": "57f85c7a",
   "metadata": {},
   "outputs": [
    {
     "data": {
      "text/html": [
       "<div>\n",
       "<style scoped>\n",
       "    .dataframe tbody tr th:only-of-type {\n",
       "        vertical-align: middle;\n",
       "    }\n",
       "\n",
       "    .dataframe tbody tr th {\n",
       "        vertical-align: top;\n",
       "    }\n",
       "\n",
       "    .dataframe thead th {\n",
       "        text-align: right;\n",
       "    }\n",
       "</style>\n",
       "<table border=\"1\" class=\"dataframe\">\n",
       "  <thead>\n",
       "    <tr style=\"text-align: right;\">\n",
       "      <th></th>\n",
       "      <th>Headline</th>\n",
       "      <th>Label</th>\n",
       "    </tr>\n",
       "  </thead>\n",
       "  <tbody>\n",
       "    <tr>\n",
       "      <th>0</th>\n",
       "      <td>Says the Annies List political group supports ...</td>\n",
       "      <td>0</td>\n",
       "    </tr>\n",
       "    <tr>\n",
       "      <th>1</th>\n",
       "      <td>Health care reform legislation is likely to ma...</td>\n",
       "      <td>0</td>\n",
       "    </tr>\n",
       "    <tr>\n",
       "      <th>2</th>\n",
       "      <td>The Chicago Bears have had more starting quart...</td>\n",
       "      <td>1</td>\n",
       "    </tr>\n",
       "    <tr>\n",
       "      <th>3</th>\n",
       "      <td>When Mitt Romney was governor of Massachusetts...</td>\n",
       "      <td>0</td>\n",
       "    </tr>\n",
       "    <tr>\n",
       "      <th>4</th>\n",
       "      <td>McCain opposed a requirement that the governme...</td>\n",
       "      <td>1</td>\n",
       "    </tr>\n",
       "    <tr>\n",
       "      <th>...</th>\n",
       "      <td>...</td>\n",
       "      <td>...</td>\n",
       "    </tr>\n",
       "    <tr>\n",
       "      <th>4549</th>\n",
       "      <td>Says Barack Obama promised to halve the defici...</td>\n",
       "      <td>1</td>\n",
       "    </tr>\n",
       "    <tr>\n",
       "      <th>4550</th>\n",
       "      <td>I am the only senator who turned down the stat...</td>\n",
       "      <td>1</td>\n",
       "    </tr>\n",
       "    <tr>\n",
       "      <th>4551</th>\n",
       "      <td>There is no system to vet refugees from the Mi...</td>\n",
       "      <td>0</td>\n",
       "    </tr>\n",
       "    <tr>\n",
       "      <th>4552</th>\n",
       "      <td>I think its seven or eight of the California s...</td>\n",
       "      <td>0</td>\n",
       "    </tr>\n",
       "    <tr>\n",
       "      <th>4553</th>\n",
       "      <td>Says the governor is going around the state ta...</td>\n",
       "      <td>0</td>\n",
       "    </tr>\n",
       "  </tbody>\n",
       "</table>\n",
       "<p>4554 rows × 2 columns</p>\n",
       "</div>"
      ],
      "text/plain": [
       "                                               Headline  Label\n",
       "0     Says the Annies List political group supports ...      0\n",
       "1     Health care reform legislation is likely to ma...      0\n",
       "2     The Chicago Bears have had more starting quart...      1\n",
       "3     When Mitt Romney was governor of Massachusetts...      0\n",
       "4     McCain opposed a requirement that the governme...      1\n",
       "...                                                 ...    ...\n",
       "4549  Says Barack Obama promised to halve the defici...      1\n",
       "4550  I am the only senator who turned down the stat...      1\n",
       "4551  There is no system to vet refugees from the Mi...      0\n",
       "4552  I think its seven or eight of the California s...      0\n",
       "4553  Says the governor is going around the state ta...      0\n",
       "\n",
       "[4554 rows x 2 columns]"
      ]
     },
     "execution_count": 2,
     "metadata": {},
     "output_type": "execute_result"
    }
   ],
   "source": [
    "# read csv of news headlines, label 1 indicates a legitimate news source\n",
    "data = pd.read_csv(\"news_labeled.csv\")\n",
    "data"
   ]
  },
  {
   "cell_type": "code",
   "execution_count": 3,
   "id": "2b7657e6",
   "metadata": {},
   "outputs": [
    {
     "data": {
      "text/plain": [
       "0    2501\n",
       "1    2053\n",
       "Name: Label, dtype: int64"
      ]
     },
     "execution_count": 3,
     "metadata": {},
     "output_type": "execute_result"
    }
   ],
   "source": [
    "data[\"Label\"].value_counts()"
   ]
  },
  {
   "cell_type": "code",
   "execution_count": 4,
   "id": "11e5b104",
   "metadata": {},
   "outputs": [],
   "source": [
    "# For balancing dataset\n",
    "def equally_sample(df, column, n):\n",
    "    equal_df = pd.DataFrame()\n",
    "    uniques = df[column].unique()\n",
    "    for val in uniques:\n",
    "        df1 = df.loc[df[column] == val]\n",
    "        df1 = df1.sample(n=n)\n",
    "        equal_df = equal_df.append(df1)\n",
    "    return equal_df"
   ]
  },
  {
   "cell_type": "code",
   "execution_count": 5,
   "id": "d8dd44f9",
   "metadata": {},
   "outputs": [
    {
     "name": "stderr",
     "output_type": "stream",
     "text": [
      "/var/folders/gp/r8c3bnsn4tl81j44g2r_wmlw0000gn/T/ipykernel_40035/3239981544.py:8: FutureWarning: The frame.append method is deprecated and will be removed from pandas in a future version. Use pandas.concat instead.\n",
      "  equal_df = equal_df.append(df1)\n",
      "/var/folders/gp/r8c3bnsn4tl81j44g2r_wmlw0000gn/T/ipykernel_40035/3239981544.py:8: FutureWarning: The frame.append method is deprecated and will be removed from pandas in a future version. Use pandas.concat instead.\n",
      "  equal_df = equal_df.append(df1)\n"
     ]
    },
    {
     "data": {
      "text/plain": [
       "0    2050\n",
       "1    2050\n",
       "Name: Label, dtype: int64"
      ]
     },
     "execution_count": 5,
     "metadata": {},
     "output_type": "execute_result"
    }
   ],
   "source": [
    "balanced_data = equally_sample(df=data, column=\"Label\", n=2050)\n",
    "balanced_data[\"Label\"].value_counts()"
   ]
  },
  {
   "cell_type": "code",
   "execution_count": 6,
   "id": "b5e3fe84",
   "metadata": {},
   "outputs": [],
   "source": [
    "# Split into training and test sets\n",
    "X = balanced_data[\"Headline\"]\n",
    "y = balanced_data[\"Label\"]\n",
    "X_train, X_test, y_train, y_test = train_test_split(X, y, test_size=0.35)"
   ]
  },
  {
   "cell_type": "code",
   "execution_count": 7,
   "id": "201cfd68",
   "metadata": {},
   "outputs": [
    {
     "data": {
      "text/plain": [
       "(2665,)"
      ]
     },
     "execution_count": 7,
     "metadata": {},
     "output_type": "execute_result"
    }
   ],
   "source": [
    "X_train.shape"
   ]
  },
  {
   "cell_type": "code",
   "execution_count": 8,
   "id": "e9029b67",
   "metadata": {},
   "outputs": [
    {
     "data": {
      "text/plain": [
       "(1435,)"
      ]
     },
     "execution_count": 8,
     "metadata": {},
     "output_type": "execute_result"
    }
   ],
   "source": [
    "X_test.shape"
   ]
  },
  {
   "cell_type": "code",
   "execution_count": 9,
   "id": "a1eb86e7",
   "metadata": {},
   "outputs": [],
   "source": [
    "# Vectorize the text\n",
    "vectorizer = TfidfVectorizer(min_df=5, ngram_range=(1,2), stop_words=\"english\")\n",
    "vectorizer.fit(X_train)\n",
    "X_train_vectorized = vectorizer.transform(X_train)\n",
    "X_test_vectorized = vectorizer.transform(X_test)"
   ]
  },
  {
   "cell_type": "code",
   "execution_count": 10,
   "id": "f6266018",
   "metadata": {},
   "outputs": [
    {
     "data": {
      "text/plain": [
       "(2665, 1362)"
      ]
     },
     "execution_count": 10,
     "metadata": {},
     "output_type": "execute_result"
    }
   ],
   "source": [
    "X_train_vectorized.toarray().shape"
   ]
  },
  {
   "cell_type": "code",
   "execution_count": 11,
   "id": "c0cc4458",
   "metadata": {},
   "outputs": [
    {
     "data": {
      "text/plain": [
       "(1435, 1362)"
      ]
     },
     "execution_count": 11,
     "metadata": {},
     "output_type": "execute_result"
    }
   ],
   "source": [
    "X_test_vectorized.toarray().shape"
   ]
  },
  {
   "cell_type": "markdown",
   "id": "7b0ad2a7",
   "metadata": {},
   "source": [
    "<h1>Model testing and selection"
   ]
  },
  {
   "cell_type": "code",
   "execution_count": 12,
   "id": "25db9acb",
   "metadata": {},
   "outputs": [],
   "source": [
    "estimators = {'Logistic regression': LogisticRegression(),\n",
    "              'Multinomial Naive Bayes': MultinomialNB(),\n",
    "              'Decision Tree': DecisionTreeClassifier()}"
   ]
  },
  {
   "cell_type": "code",
   "execution_count": 13,
   "id": "b9dc0e8e",
   "metadata": {},
   "outputs": [
    {
     "name": "stdout",
     "output_type": "stream",
     "text": [
      "Logistic regression\n",
      "\t Classification accuracy on training set: 0.7928705440900563\n",
      "\t Classification accuracy on testing set: 0.5874564459930314\n",
      "\n",
      "Multinomial Naive Bayes\n",
      "\t Classification accuracy on training set: 0.7692307692307693\n",
      "\t Classification accuracy on testing set: 0.5944250871080139\n",
      "\n",
      "Decision Tree\n",
      "\t Classification accuracy on training set: 0.9966228893058161\n",
      "\t Classification accuracy on testing set: 0.5442508710801394\n",
      "\n"
     ]
    }
   ],
   "source": [
    "for name, obj in estimators.items():\n",
    "        model = obj.fit(X=X_train_vectorized, y=y_train)\n",
    "        print(name + \"\\n\\t Classification accuracy on training set: \" + str(model.score(X_train_vectorized, y_train)) + \n",
    "              \"\\n\\t Classification accuracy on testing set: \" + str(model.score(X_test_vectorized, y_test)) + \"\\n\")"
   ]
  },
  {
   "cell_type": "code",
   "execution_count": 19,
   "id": "8202ff62",
   "metadata": {},
   "outputs": [],
   "source": [
    "# Selected Logistic Regression\n",
    "model =  LogisticRegression().fit(X=X_train_vectorized, y=y_train)\n",
    "\n",
    "def headline_checker(headline):\n",
    "    feats = vectorizer.transform(headline)\n",
    "    prediction = model.predict(feats)\n",
    "    probability = model.predict_proba(feats)\n",
    "    if prediction == 0:\n",
    "        pred_str = \"Fake News\"\n",
    "        probability_str = str(probability[0][0])\n",
    "    elif prediction == 1:\n",
    "        pred_str = \"Real News\"\n",
    "        probability_str = str(probability[0][1])\n",
    "    print(\"Model Classification:  \" + pred_str + \"\\n Probability:  \" + probability_str)"
   ]
  },
  {
   "cell_type": "code",
   "execution_count": 20,
   "id": "8fe56c65",
   "metadata": {},
   "outputs": [
    {
     "name": "stdout",
     "output_type": "stream",
     "text": [
      "Model Classification:  Real News\n",
      " Probability:  0.7836517612982383\n"
     ]
    }
   ],
   "source": [
    "headline_checker([\"The State adds new vaccine requirement for senate members\"])"
   ]
  },
  {
   "cell_type": "code",
   "execution_count": 21,
   "id": "ec71117f",
   "metadata": {},
   "outputs": [
    {
     "name": "stdout",
     "output_type": "stream",
     "text": [
      "Model Classification:  Fake News\n",
      " Probability:  0.817660350743087\n"
     ]
    }
   ],
   "source": [
    "headline_checker([\"Wisconsin Governer says he will never campaign again\"])"
   ]
  }
 ],
 "metadata": {
  "kernelspec": {
   "display_name": "Python 3 (ipykernel)",
   "language": "python",
   "name": "python3"
  },
  "language_info": {
   "codemirror_mode": {
    "name": "ipython",
    "version": 3
   },
   "file_extension": ".py",
   "mimetype": "text/x-python",
   "name": "python",
   "nbconvert_exporter": "python",
   "pygments_lexer": "ipython3",
   "version": "3.9.13"
  }
 },
 "nbformat": 4,
 "nbformat_minor": 5
}
